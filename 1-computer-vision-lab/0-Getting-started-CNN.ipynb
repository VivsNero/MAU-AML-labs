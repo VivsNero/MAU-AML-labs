{
 "cells": [
  {
   "cell_type": "markdown",
   "metadata": {},
   "source": [
    "## Computer Vision Lab ##\n",
    "\n",
    "Through these notebooks, we will explore different important techniques, approaches, and uses of deep learning (especially Convolutional Neural Networks) for addressing computer vision labs.\n",
    "\n",
    "We will explore the following:\n",
    "\n",
    "- How to create a CNN to classify digits using MNIST dataset\n",
    "- Use transfer learning concepts to fine-tune pretrained models included in Pytorch\n",
    "- Different visualization techniques\n",
    "- Semantic segmentation"
   ]
  },
  {
   "cell_type": "markdown",
   "metadata": {},
   "source": [
    "### Assignments ###\n",
    "\n",
    "#### Mandatory: ####\n",
    "\n",
    "- Compare CNN with an MLP\n",
    "- Calculate, plot, analyse, and compare different metrics \n",
    "    - Loss, Accuracy, Precision, Recall, F1-score (when possible) --> Precision, recall, and F1-score are normally used in binary classification\n",
    "- Fine-tune pretrained models:\n",
    "    - by freezing weights\n",
    "    - reconstructing the layers\n",
    "- Data augmentation and pre-process\n",
    "    - For example dataset (bees and ants)\n",
    "    - For image (mario level)\n",
    "    \n",
    "#### Advanced: ####\n",
    "\n",
    "- Segmentation:\n",
    "    - Use Mask R-CNN (or other type of network) to do instance segmentation \n",
    "- CNN Visualization\n",
    "    - Apply occlusion to gather heatmap\n",
    "    - Do either:\n",
    "        - Visualize through Saliency maps (vanilla backpropagation saliency, or Grad-CAM, or Score-CAM)\n",
    "        - **OR**\n",
    "        - Visualize a pre-trained model with Deconvnets\n",
    "        \n",
    "#### Optional/if wanted: ####\n",
    "- Apply CNN to video data "
   ]
  },
  {
   "cell_type": "code",
   "execution_count": 1,
   "metadata": {},
   "outputs": [],
   "source": [
    "import torch\n",
    "import torch.nn as nn\n",
    "import torch.nn.functional as F\n",
    "import torch.optim as optim\n",
    "from torchvision import datasets, transforms\n",
    "import matplotlib.pyplot as plt\n",
    "import numpy as np"
   ]
  },
  {
   "cell_type": "code",
   "execution_count": 2,
   "metadata": {},
   "outputs": [],
   "source": [
    "device = torch.device(\"cuda:0\" if torch.cuda.is_available() else \"cpu\")"
   ]
  },
  {
   "cell_type": "markdown",
   "metadata": {},
   "source": [
    "# Load the Dataset (MNIST)\n",
    "\n",
    "We will use the pytorch dataset and dataloader as seen in the previous lab. We will apply some needed transformation to the data"
   ]
  },
  {
   "cell_type": "code",
   "execution_count": 3,
   "metadata": {},
   "outputs": [],
   "source": [
    "input_size  = 28*28   # images are 28x28 pixels\n",
    "output_size = 10      # there are 10 classes (0 to 9)\n",
    "\n",
    "train_loader = torch.utils.data.DataLoader(\n",
    "    datasets.MNIST('../data', train=True, download=True,\n",
    "                   transform=transforms.Compose([\n",
    "                       transforms.ToTensor(),\n",
    "                       transforms.Normalize((0.1307,), (0.3081,))\n",
    "                   ])),\n",
    "    batch_size=64, shuffle=True)\n",
    "\n",
    "test_loader = torch.utils.data.DataLoader(\n",
    "    datasets.MNIST('../data', train=False, download=True, transform=transforms.Compose([\n",
    "                       transforms.ToTensor(),\n",
    "                       transforms.Normalize((0.1307,), (0.3081,))\n",
    "                   ])),\n",
    "    batch_size=1000, shuffle=True)"
   ]
  },
  {
   "cell_type": "code",
   "execution_count": 4,
   "metadata": {},
   "outputs": [
    {
     "data": {
      "image/png": "[encoded data removed]",
      "text/plain": [
       "<Figure size 1152x432 with 10 Axes>"
      ]
     },
     "metadata": {
      "needs_background": "light"
     },
     "output_type": "display_data"
    }
   ],
   "source": [
    "# The MNIST dataset is the handwritten dataset.\n",
    "plt.figure(figsize=(16, 6))\n",
    "for i in range(10):\n",
    "    plt.subplot(2, 5, i + 1)\n",
    "    image, _ = train_loader.dataset[i]\n",
    "    plt.imshow(image.squeeze().numpy())\n",
    "    plt.axis('off');"
   ]
  },
  {
   "cell_type": "markdown",
   "metadata": {},
   "source": [
    "# Create the model classes"
   ]
  },
  {
   "cell_type": "code",
   "execution_count": 5,
   "metadata": {},
   "outputs": [],
   "source": [
    "class CNN(nn.Module):\n",
    "    def __init__(self, input_size, n_feature, output_size):\n",
    "        super(CNN, self).__init__()\n",
    "        self.n_feature = n_feature\n",
    "        self.conv1 = nn.Conv2d(in_channels=1, out_channels=n_feature, kernel_size=5)\n",
    "        self.conv2 = nn.Conv2d(n_feature, n_feature, kernel_size=5) # 6 channels and kernel_size 5\n",
    "        \n",
    "        self.flatten = nn.Flatten()\n",
    "        self.fc1 = nn.Linear(n_feature*4*4, 50)\n",
    "        self.fc2 = nn.Linear(50, 10)\n",
    "        \n",
    "    def forward(self, x, verbose=False): # [batch_size, channel, width, height] - [64, 1, 28, 28]\n",
    "        # First CONV\n",
    "        x = self.conv1(x)\n",
    "        x = F.relu(x)\n",
    "        x = F.max_pool2d(x, kernel_size=2) # downdsample the data by half\n",
    "        \n",
    "        # Second CONV\n",
    "        x = self.conv2(x)\n",
    "        x = F.relu(x)\n",
    "        x = F.max_pool2d(x, kernel_size=2) # downdsample the data by half\n",
    "        # [64, 6, 4, 4]\n",
    "        \n",
    "#         x = x.view(-1, self.n_feature*4*4)\n",
    "        x = self.flatten(x) # [64, n_feature * 4 * 4]\n",
    "        x = self.fc1(x)\n",
    "        x = F.relu(x)\n",
    "        x = self.fc2(x)\n",
    "        x = F.log_softmax(x, dim=1)\n",
    "        return x\n"
   ]
  },
  {
   "cell_type": "markdown",
   "metadata": {},
   "source": [
    "## Lets go step by step ##"
   ]
  },
  {
   "cell_type": "code",
   "execution_count": 6,
   "metadata": {},
   "outputs": [
    {
     "name": "stdout",
     "output_type": "stream",
     "text": [
      "torch.Size([1, 1, 28, 28])\n"
     ]
    }
   ],
   "source": [
    "tensor = torch.rand([1, 1, 28, 28]) #Batch size, channel, width, height (what the network expect)\n",
    "print(tensor.shape)"
   ]
  },
  {
   "cell_type": "code",
   "execution_count": 7,
   "metadata": {},
   "outputs": [
    {
     "name": "stdout",
     "output_type": "stream",
     "text": [
      "after conv1:  torch.Size([1, 6, 24, 24])\n",
      "after relu1:  torch.Size([1, 6, 24, 24])\n",
      "after max_pooling_1:  torch.Size([1, 6, 12, 12])\n"
     ]
    }
   ],
   "source": [
    "conv_1 = nn.Conv2d(in_channels=1, out_channels=6, kernel_size=5)\n",
    "relu_1 = F.relu\n",
    "max_pool_1 = nn.MaxPool2d(kernel_size=2)\n",
    "\n",
    "result = conv_1(tensor)\n",
    "print(\"after conv1: \", result.shape) \n",
    "#Tensor is reshaped from [1, 1, 28, 28] to [1, 6, 24, 24]\n",
    "# 6 are the number of out_channels specified\n",
    "# and it reduces w and h to 24, 24 because of the kernel_size (kernel_size - 1) and stride (stride = 1)\n",
    "\n",
    "result = relu_1(result)\n",
    "print(\"after relu1: \", result.shape)\n",
    "\n",
    "result = max_pool_1(result)\n",
    "print(\"after max_pooling_1: \", result.shape) \n",
    "# tensor is reshaped from [1, 6, 24, 24] to [1, 6, 12, 12]\n",
    "# max pooling downsamples dividing by kernel_size"
   ]
  },
  {
   "cell_type": "code",
   "execution_count": 8,
   "metadata": {},
   "outputs": [
    {
     "name": "stdout",
     "output_type": "stream",
     "text": [
      "after conv2:  torch.Size([1, 6, 8, 8])\n",
      "after relu2:  torch.Size([1, 6, 8, 8])\n",
      "after max_pooling_2:  torch.Size([1, 6, 4, 4])\n",
      "shape is [1, 6*4*4]:  96\n"
     ]
    }
   ],
   "source": [
    "conv_2 = nn.Conv2d(in_channels=6, out_channels=6, kernel_size=5)\n",
    "relu_2 = F.relu\n",
    "max_pool_2 = nn.MaxPool2d(kernel_size=2)\n",
    "\n",
    "result = conv_2(result)\n",
    "print(\"after conv2: \", result.shape)\n",
    "\n",
    "result = relu_2(result)\n",
    "print(\"after relu2: \", result.shape)\n",
    "\n",
    "result = max_pool_2(result)\n",
    "print(\"after max_pooling_2: \", result.shape)\n",
    "print(\"shape is [1, 6*4*4]: \", 6*4*4)"
   ]
  },
  {
   "cell_type": "code",
   "execution_count": 9,
   "metadata": {},
   "outputs": [
    {
     "name": "stdout",
     "output_type": "stream",
     "text": [
      "after flattening:  torch.Size([1, 96])\n",
      "after view:  torch.Size([1, 96])\n"
     ]
    }
   ],
   "source": [
    "flatten_operation = nn.Flatten()\n",
    "\n",
    "result_flattened = flatten_operation(result)\n",
    "print(\"after flattening: \", result_flattened.shape)\n",
    "\n",
    "result_with_view = result.view(-1, 6*4*4)\n",
    "print(\"after view: \", result_with_view.shape)"
   ]
  },
  {
   "cell_type": "markdown",
   "metadata": {},
   "source": [
    "## Train and Test loop"
   ]
  },
  {
   "cell_type": "code",
   "execution_count": 10,
   "metadata": {},
   "outputs": [],
   "source": [
    "def train(epoch, model, perm=torch.arange(0, 784).long()):\n",
    "    model.train()\n",
    "    for batch_idx, (data, target) in enumerate(train_loader):\n",
    "        # send to device\n",
    "        data, target = data.to(device), target.to(device) # [64, 1, 28, 28]\n",
    "        \n",
    "        # permute pixels\n",
    "        data = data.view(-1, 28*28)\n",
    "        data = data[:, perm]\n",
    "        data = data.view(-1, 1, 28, 28)\n",
    "\n",
    "        optimizer.zero_grad()\n",
    "        output = model(data)\n",
    "        loss = F.nll_loss(output, target)\n",
    "        loss.backward()\n",
    "        optimizer.step()\n",
    "        #if batch_idx % 100 == 0:\n",
    "        #    print('Train Epoch: {} [{}/{} ({:.0f}%)]\\tLoss: {:.6f}'.format(\n",
    "        #       epoch, batch_idx * len(data), len(train_loader.dataset),\n",
    "        #       100. * batch_idx / len(train_loader), loss.item()))"
   ]
  },
  {
   "cell_type": "code",
   "execution_count": 11,
   "metadata": {},
   "outputs": [],
   "source": [
    "accuracy_list = []\n",
    "loss_list = []\n",
    "\n",
    "def test(model, perm=torch.arange(0, 784).long()):\n",
    "    model.eval()\n",
    "    test_loss = 0\n",
    "    correct = 0\n",
    "    for data, target in test_loader:\n",
    "        # send to device\n",
    "        data, target = data.to(device), target.to(device)\n",
    "        \n",
    "        # permute pixels\n",
    "        data = data.view(-1, 28*28)\n",
    "        data = data[:, perm]\n",
    "        data = data.view(-1, 1, 28, 28)\n",
    "        output = model(data)\n",
    "        test_loss += F.nll_loss(output, target, reduction='sum').item() # sum up batch loss                                                               \n",
    "        pred = output.data.max(1, keepdim=True)[1] # get the index of the max log-probability                                                                 \n",
    "        correct += pred.eq(target.data.view_as(pred)).cpu().sum().item()\n",
    "\n",
    "    test_loss /= len(test_loader.dataset)\n",
    "    accuracy = 100. * correct / len(test_loader.dataset)\n",
    "    accuracy_list.append(accuracy)\n",
    "    loss_list.append(test_loss)\n",
    "    print('\\nTest set: Average loss: {:.4f}, Accuracy: {}/{} ({:.0f}%)\\n'.format(\n",
    "        test_loss, correct, len(test_loader.dataset),\n",
    "        accuracy))"
   ]
  },
  {
   "cell_type": "markdown",
   "metadata": {},
   "source": [
    "# Train a ConvNet with the same number of parameters"
   ]
  },
  {
   "cell_type": "code",
   "execution_count": 12,
   "metadata": {},
   "outputs": [
    {
     "name": "stdout",
     "output_type": "stream",
     "text": [
      "CNN(\n",
      "  (conv1): Conv2d(1, 10, kernel_size=(5, 5), stride=(1, 1))\n",
      "  (conv2): Conv2d(10, 10, kernel_size=(5, 5), stride=(1, 1))\n",
      "  (flatten): Flatten(start_dim=1, end_dim=-1)\n",
      "  (fc1): Linear(in_features=160, out_features=50, bias=True)\n",
      "  (fc2): Linear(in_features=50, out_features=10, bias=True)\n",
      ")\n",
      "Number of parameters: 11330\n",
      "\n",
      "Test set: Average loss: 0.1699, Accuracy: 9451/10000 (95%)\n",
      "\n",
      "\n",
      "Test set: Average loss: 0.0803, Accuracy: 9741/10000 (97%)\n",
      "\n",
      "\n",
      "Test set: Average loss: 0.0642, Accuracy: 9799/10000 (98%)\n",
      "\n",
      "\n",
      "Test set: Average loss: 0.0758, Accuracy: 9767/10000 (98%)\n",
      "\n",
      "\n",
      "Test set: Average loss: 0.0484, Accuracy: 9839/10000 (98%)\n",
      "\n"
     ]
    }
   ],
   "source": [
    "# Training settings \n",
    "n_features = 10 # number of feature maps\n",
    "\n",
    "model_cnn = CNN(input_size, n_features, output_size)\n",
    "print(model_cnn)\n",
    "model_cnn.to(device)\n",
    "optimizer = optim.SGD(model_cnn.parameters(), lr=0.01, momentum=0.5)\n",
    "print('Number of parameters: {}'.format(sum(p.numel() for p in model_cnn.parameters() if p.requires_grad)))\n",
    "\n",
    "for epoch in range(0, 5):\n",
    "    train(epoch, model_cnn)\n",
    "    test(model_cnn)\n",
    "Acc_CNN_list = accuracy_list\n",
    "Loss_CNN_list = loss_list\n"
   ]
  },
  {
   "cell_type": "markdown",
   "metadata": {},
   "source": [
    "# Create and Train a small fully-connected network on the same task\n",
    "\n",
    "Compare and plot as well for it!"
   ]
  },
  {
   "cell_type": "code",
   "execution_count": 13,
   "metadata": {},
   "outputs": [
    {
     "name": "stdout",
     "output_type": "stream",
     "text": [
      "MLP(\n",
      "  (flatten): Flatten(start_dim=1, end_dim=-1)\n",
      "  (linear_relu_stack): Sequential(\n",
      "    (0): Linear(in_features=784, out_features=512, bias=True)\n",
      "    (1): ReLU()\n",
      "    (2): Linear(in_features=512, out_features=10, bias=True)\n",
      "    (3): ReLU()\n",
      "  )\n",
      ")\n",
      "Number of parameters: 407050\n",
      "\n",
      "Test set: Average loss: 0.2546, Accuracy: 9267/10000 (93%)\n",
      "\n",
      "\n",
      "Test set: Average loss: 0.1931, Accuracy: 9428/10000 (94%)\n",
      "\n",
      "\n",
      "Test set: Average loss: 0.1568, Accuracy: 9537/10000 (95%)\n",
      "\n",
      "\n",
      "Test set: Average loss: 0.1342, Accuracy: 9609/10000 (96%)\n",
      "\n",
      "\n",
      "Test set: Average loss: 0.1185, Accuracy: 9646/10000 (96%)\n",
      "\n"
     ]
    }
   ],
   "source": [
    "#Creating and training a MLP\n",
    "\n",
    "class MLP(nn.Module):\n",
    "    def __init__(self, input_size, n_feature, output_size):\n",
    "        super(MLP, self).__init__()\n",
    "        self.flatten = nn.Flatten() # Used to convert the 2D input into 1D (28x28 to 784)\n",
    "        self.linear_relu_stack = nn.Sequential(\n",
    "            nn.Linear(input_size, 512),\n",
    "            nn.ReLU(),\n",
    "            nn.Linear(512, output_size),\n",
    "            nn.ReLU()\n",
    "        )\n",
    "        #self.softmax = F.log_softmax(dim=1) # y = [2.5, 0.9, 0.2] -> softmax(y) -> [0.768, 0.155, 0.077] (if you want to test https://keisan.casio.com/exec/system/15168444286206)\n",
    "        #self.softmax_result = 0\n",
    "\n",
    "    def forward(self, x): \n",
    "        x = self.flatten(x) #[64, 28, 28] -> [64, 784] [batch size, width, height]\n",
    "        x = self.linear_relu_stack(x)\n",
    "        #self.softmax_result\n",
    "        x= F.log_softmax(x, dim=1)\n",
    "        return x\n",
    "    \n",
    "    \n",
    "#Training\n",
    "\n",
    "n_feature = 10\n",
    "accuracy_list=[]\n",
    "loss_list=[]\n",
    "model_MLP = MLP(input_size, n_features, output_size)\n",
    "print(model_MLP)\n",
    "model_MLP.to(device)\n",
    "optimizer = optim.SGD(model_MLP.parameters(), lr=0.01, momentum=0.5)\n",
    "print('Number of parameters: {}'.format(sum(p.numel() for p in model_MLP.parameters() if p.requires_grad)))\n",
    "\n",
    "for epoch in range(0, 5):\n",
    "    train(epoch, model_MLP)\n",
    "    test(model_MLP)\n",
    "Acc_MLP_list = accuracy_list\n",
    "Loss_MLP_list = loss_list"
   ]
  },
  {
   "cell_type": "markdown",
   "metadata": {},
   "source": [
    "## PLOT Loss, Accuracy, and compare! ##"
   ]
  },
  {
   "cell_type": "code",
   "execution_count": 14,
   "metadata": {},
   "outputs": [
    {
     "name": "stdout",
     "output_type": "stream",
     "text": [
      "[94.51, 97.41, 97.99, 97.67, 98.39]\n",
      "[92.67, 94.28, 95.37, 96.09, 96.46]\n",
      "[0.16987476348876954, 0.08034547271728516, 0.06421411933898925, 0.07582760200500488, 0.04838300895690918]\n",
      "[0.25462481994628905, 0.1930619369506836, 0.15679341583251954, 0.13424081268310548, 0.11850258865356446]\n"
     ]
    },
    {
     "data": {
      "text/plain": [
       "[<matplotlib.lines.Line2D at 0x28831b761c0>]"
      ]
     },
     "execution_count": 14,
     "metadata": {},
     "output_type": "execute_result"
    },
    {
     "data": {
      "image/png": "[encoded data removed]",
      "text/plain": [
       "<Figure size 432x288 with 1 Axes>"
      ]
     },
     "metadata": {
      "needs_background": "light"
     },
     "output_type": "display_data"
    }
   ],
   "source": [
    "print(Acc_CNN_list)\n",
    "print(Acc_MLP_list)\n",
    "print(Loss_CNN_list)\n",
    "print(Loss_MLP_list)\n",
    "fig, ax = plt.subplots()\n",
    "ax.plot(Acc_CNN_list,color='tab:blue')\n",
    "ax.plot(Acc_MLP_list,color='tab:orange')"
   ]
  },
  {
   "cell_type": "code",
   "execution_count": 15,
   "metadata": {},
   "outputs": [
    {
     "data": {
      "text/plain": [
       "[<matplotlib.lines.Line2D at 0x28831ba5c40>]"
      ]
     },
     "execution_count": 15,
     "metadata": {},
     "output_type": "execute_result"
    },
    {
     "data": {
      "image/png": "[encoded data removed]",
      "text/plain": [
       "<Figure size 432x288 with 1 Axes>"
      ]
     },
     "metadata": {
      "needs_background": "light"
     },
     "output_type": "display_data"
    }
   ],
   "source": [
    "fig, ax = plt.subplots()\n",
    "ax.plot(Loss_CNN_list,color='tab:blue')\n",
    "ax.plot(Loss_MLP_list,color='tab:orange')"
   ]
  },
  {
   "cell_type": "markdown",
   "metadata": {},
   "source": [
    "## Experiment ##\n",
    "\n",
    "### What happens when the data (imgs) does not make sense anymore - all assumptions are removed ###"
   ]
  },
  {
   "cell_type": "code",
   "execution_count": 16,
   "metadata": {},
   "outputs": [
    {
     "data": {
      "image/png": "[encoded data removed]",
      "text/plain": [
       "<Figure size 1152x864 with 20 Axes>"
      ]
     },
     "metadata": {
      "needs_background": "light"
     },
     "output_type": "display_data"
    }
   ],
   "source": [
    "perm = torch.randperm(784)\n",
    "plt.figure(figsize=(16, 12))\n",
    "for i in range(10):\n",
    "    image, _ = train_loader.dataset[i]\n",
    "    # permute pixels\n",
    "    image_perm = image.view(-1, 28*28).clone()\n",
    "    image_perm = image_perm[:, perm]\n",
    "    image_perm = image_perm.view(-1, 1, 28, 28)\n",
    "    plt.subplot(4, 5, i + 1)\n",
    "    plt.imshow(image.squeeze().numpy())\n",
    "    plt.axis('off')\n",
    "    plt.subplot(4, 5, i + 11)\n",
    "    plt.imshow(image_perm.squeeze().numpy())\n",
    "    plt.axis('off')"
   ]
  },
  {
   "cell_type": "code",
   "execution_count": 20,
   "metadata": {},
   "outputs": [
    {
     "name": "stdout",
     "output_type": "stream",
     "text": [
      "\n",
      "Test set: Average loss: 0.4783, Accuracy: 8523/10000 (85%)\n",
      "\n",
      "\n",
      "Test set: Average loss: 0.3119, Accuracy: 9069/10000 (91%)\n",
      "\n",
      "\n",
      "Test set: Average loss: 0.2761, Accuracy: 9154/10000 (92%)\n",
      "\n",
      "\n",
      "Test set: Average loss: 0.2397, Accuracy: 9271/10000 (93%)\n",
      "\n",
      "\n",
      "Test set: Average loss: 0.2438, Accuracy: 9266/10000 (93%)\n",
      "\n"
     ]
    }
   ],
   "source": [
    "# Training settings \n",
    "n_features = 10 # number of feature maps\n",
    "accuracy_list = []\n",
    "loss_list = []\n",
    "model_cnn = CNN(input_size, n_features, output_size)\n",
    "model_cnn.to(device)\n",
    "optimizer = optim.SGD(model_cnn.parameters(), lr=0.01, momentum=0.5)\n",
    "\n",
    "for epoch in range(0, 5):\n",
    "    train(epoch, model_cnn, perm)\n",
    "    test(model_cnn, perm)\n",
    "Acc_CNN_list2 = accuracy_list\n",
    "Loss_CNN_list2 = loss_list"
   ]
  },
  {
   "cell_type": "markdown",
   "metadata": {},
   "source": [
    "## Do the same with the MLP ##"
   ]
  },
  {
   "cell_type": "code",
   "execution_count": 21,
   "metadata": {},
   "outputs": [
    {
     "name": "stdout",
     "output_type": "stream",
     "text": [
      "\n",
      "Test set: Average loss: 0.2544, Accuracy: 9292/10000 (93%)\n",
      "\n",
      "\n",
      "Test set: Average loss: 0.1953, Accuracy: 9446/10000 (94%)\n",
      "\n",
      "\n",
      "Test set: Average loss: 0.1597, Accuracy: 9535/10000 (95%)\n",
      "\n",
      "\n",
      "Test set: Average loss: 0.1346, Accuracy: 9607/10000 (96%)\n",
      "\n",
      "\n",
      "Test set: Average loss: 0.1187, Accuracy: 9659/10000 (97%)\n",
      "\n"
     ]
    }
   ],
   "source": [
    "# create network, train, compare!\n",
    "n_feature = 10\n",
    "accuracy_list=[]\n",
    "loss_list=[]\n",
    "model_MLP2 = MLP(input_size, n_features, output_size)\n",
    "model_MLP2.to(device)\n",
    "optimizer = optim.SGD(model_MLP2.parameters(), lr=0.01, momentum=0.5)\n",
    "\n",
    "for epoch in range(0, 5):\n",
    "    train(epoch, model_MLP2, perm)\n",
    "    test(model_MLP2, perm)\n",
    "Acc_MLP_list2 = accuracy_list\n",
    "Loss_MLP_list2 = loss_list"
   ]
  },
  {
   "cell_type": "code",
   "execution_count": 22,
   "metadata": {},
   "outputs": [
    {
     "data": {
      "text/plain": [
       "[<matplotlib.lines.Line2D at 0x28831d7c7c0>]"
      ]
     },
     "execution_count": 22,
     "metadata": {},
     "output_type": "execute_result"
    },
    {
     "data": {
      "image/png": "[encoded data removed]",
      "text/plain": [
       "<Figure size 432x288 with 1 Axes>"
      ]
     },
     "metadata": {
      "needs_background": "light"
     },
     "output_type": "display_data"
    }
   ],
   "source": [
    "fig, ax = plt.subplots()\n",
    "ax.plot(Acc_CNN_list2,color='tab:blue')\n",
    "ax.plot(Acc_MLP_list2,color='tab:orange')"
   ]
  },
  {
   "cell_type": "code",
   "execution_count": 25,
   "metadata": {},
   "outputs": [
    {
     "data": {
      "text/plain": [
       "[<matplotlib.lines.Line2D at 0x28831b66dc0>]"
      ]
     },
     "execution_count": 25,
     "metadata": {},
     "output_type": "execute_result"
    },
    {
     "data": {
      "image/png": "[encoded data removed]",
      "text/plain": [
       "<Figure size 432x288 with 1 Axes>"
      ]
     },
     "metadata": {
      "needs_background": "light"
     },
     "output_type": "display_data"
    }
   ],
   "source": [
    "fig, ax = plt.subplots()\n",
    "ax.plot(Loss_CNN_list2,color='tab:blue')\n",
    "ax.plot(Loss_MLP_list2,color='tab:orange')"
   ]
  },
  {
   "cell_type": "markdown",
   "metadata": {},
   "source": [
    "## What to do next? ##\n",
    "\n",
    "- Change the task\n",
    "- upload your handwriten work.\n",
    "- Fine-tune the network so it learn your handwritting?"
   ]
  }
 ],
 "metadata": {
  "kernelspec": {
   "display_name": "Python [conda env:AMLdl] *",
   "language": "python",
   "name": "conda-env-AMLdl-py"
  },
  "language_info": {
   "codemirror_mode": {
    "name": "ipython",
    "version": 3
   },
   "file_extension": ".py",
   "mimetype": "text/x-python",
   "name": "python",
   "nbconvert_exporter": "python",
   "pygments_lexer": "ipython3",
   "version": "3.8.5"
  }
 },
 "nbformat": 4,
 "nbformat_minor": 4
}
