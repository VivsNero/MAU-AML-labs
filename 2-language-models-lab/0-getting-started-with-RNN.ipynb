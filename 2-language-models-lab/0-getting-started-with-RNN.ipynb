{
 "cells": [
  {
   "cell_type": "markdown",
   "metadata": {},
   "source": [
    "## Language Models Lab ##\n",
    "\n",
    "Through these notebooks, we will explore different important and interesting techniques, approaches, and uses of language models to address mainly Natural Language Processing tasks.\n",
    "\n",
    "We will explore the following:\n",
    "\n",
    "- Creating Recurrent Neural Networks (RNN) and Long short-term memory (LSTM) networks\n",
    "- Word2Vec\n",
    "    - Continuous Bag-Of-Words (CBOW)\n",
    "- Using RNNS in practice!\n",
    "    - Text classification\n",
    "- Seq2Seq\n",
    "    - Using Torchtext\n",
    "    - Machine Translation\n",
    "- Using Pre-trained models!"
   ]
  },
  {
   "cell_type": "markdown",
   "metadata": {},
   "source": [
    "### Assignments ###\n",
    "\n",
    "#### Mandatory: ####\n",
    "\n",
    "- Compare RNN, LSTM, and GRU with perplexity\n",
    "    - Implement GRU in this Notebook\n",
    "- Implement Skip-gram and compare embeddings with CBOW\n",
    "- Adapt/expand the text classifier example to one of the proposed ones in the notebook\n",
    "    - Use LSTMs or GRU to compare with the current approach (RNN)\n",
    "    - Possible tasks\n",
    "        - Book or character name -> writer\n",
    "        - Game's titles -> company or genre\n",
    "        - Any word -> language\n",
    "        - Whatever you can think it can be classified\n",
    "\n",
    "- Implement and test Pytorch’s own Transformer models for machine translation\n",
    "    - Analyze based on the output and measurements.\n",
    "    - Compare to provided example seq2seq\n",
    "    \n",
    "#### Advanced: ####\n",
    "\n",
    "- Use RNNs, LSTMs, GRUs, or Transformer for text generation\n",
    "    - Specifically, you should/could generate:\n",
    "        - Names based on countries\n",
    "        - Cities based on countries\n",
    "        - Game ideas based on genres\n",
    "- Fine-tune any of the hugginface models to any specific task you are interested on such as:\n",
    "    - Generation of quests\n",
    "    - Chatbot\n",
    "    - Recipe generation"
   ]
  },
  {
   "cell_type": "markdown",
   "metadata": {},
   "source": [
    "-------------\n",
    "## Basic testing of RNN, LSTM, and GRU ##"
   ]
  },
  {
   "cell_type": "code",
   "execution_count": 1,
   "metadata": {},
   "outputs": [],
   "source": [
    "import torch\n",
    "import torch.nn as nn\n",
    "import torch.nn.functional as F\n",
    "import torch.optim as optim\n",
    "import matplotlib.pyplot as plt"
   ]
  },
  {
   "cell_type": "code",
   "execution_count": 2,
   "metadata": {},
   "outputs": [
    {
     "name": "stdout",
     "output_type": "stream",
     "text": [
      "{'The': 0, 'dog': 1, 'ate': 2, 'the': 3, 'apple': 4, 'Everybody': 5, 'read': 6, 'that': 7, 'book': 8, 'does': 9, 'machine': 10, 'learning': 11, 'nowadays': 12}\n"
     ]
    }
   ],
   "source": [
    "def prepare_sequence(seq, to_ix):\n",
    "    idxs = [to_ix[w] for w in seq]\n",
    "    return torch.tensor(idxs, dtype=torch.long)\n",
    "\n",
    "# What will happen here?\n",
    "training_data = [\n",
    "    # Tags are: DET - determiner; NN - noun; V - verb\n",
    "    # For example, the word \"The\" is a determiner\n",
    "    (\"The dog ate the apple\".split(), [\"DET\", \"NN\", \"V\", \"DET\", \"NN\"]),\n",
    "    (\"Everybody read that book\".split(), [\"NN\", \"V\", \"DET\", \"NN\"]),\n",
    "    (\"Everybody does machine learning nowadays\".split(), [\"NN\", \"V\", \"NN\", \"NN\", \"ADV\", ])\n",
    "]\n",
    "word_to_ix = {}\n",
    "# For each words-list (sentence) and tags-list in each tuple of training_data\n",
    "for sent, tags in training_data:\n",
    "    for word in sent:\n",
    "        if word not in word_to_ix:  # word has not been assigned an index yet\n",
    "            word_to_ix[word] = len(word_to_ix)  # Assign each word with a unique index\n",
    "            \n",
    "print(word_to_ix)\n",
    "tag_to_ix = {\"DET\": 0, \"NN\": 1, \"V\": 2, \"ADV\": 3}  # Assign each tag with a unique index"
   ]
  },
  {
   "cell_type": "code",
   "execution_count": 3,
   "metadata": {},
   "outputs": [],
   "source": [
    "EMBEDDING_DIM = 6\n",
    "HIDDEN_DIM = 12\n",
    "VOCAB_SIZE = len(word_to_ix)\n",
    "NUM_CLASSES = len(tag_to_ix)"
   ]
  },
  {
   "cell_type": "code",
   "execution_count": 4,
   "metadata": {},
   "outputs": [],
   "source": [
    "perplexity = []\n",
    "def train(model, optimizer, criterion, epochs):\n",
    "    epoch_loss = []\n",
    "    for epoch in range(epochs):  # again, normally you would NOT do 300 epochs, it is toy data\n",
    "        final_loss = 0\n",
    "        for sentence, tags in training_data:\n",
    "            \n",
    "            model.zero_grad()\n",
    "\n",
    "            # get inputs and targets ready for the network!\n",
    "            sentence_in = prepare_sequence(sentence, word_to_ix)\n",
    "            targets = prepare_sequence(tags, tag_to_ix)\n",
    "\n",
    "            # get the tag scores\n",
    "            tag_scores = model(sentence_in)\n",
    "            \n",
    "            loss = criterion(tag_scores, targets)\n",
    "            perplexity.append(torch.exp(loss).item())\n",
    "            #print(perplexity)\n",
    "            optimizer.zero_grad()\n",
    "            loss.backward()\n",
    "            optimizer.step()\n",
    "            final_loss += loss.item()\n",
    "        epoch_loss.append(final_loss)\n",
    "    \n",
    "    return epoch_loss\n"
   ]
  },
  {
   "cell_type": "code",
   "execution_count": 5,
   "metadata": {},
   "outputs": [],
   "source": [
    "def evaluate(model, test_sequence):\n",
    "    with torch.no_grad():\n",
    "        inputs = prepare_sequence(training_data[test_sequence][0], word_to_ix)\n",
    "        tag_scores = model(inputs)\n",
    "        \n",
    "        outputs = []\n",
    "        \n",
    "        print(tag_to_ix)\n",
    "        print(training_data[test_sequence][0])\n",
    "        print(training_data[test_sequence][1])\n",
    "        \n",
    "        for tag_score in tag_scores:\n",
    "            outputs.append(tag_score.topk(1).indices.item())\n",
    "            \n",
    "        print(outputs)\n",
    "        print(\"--------------\")"
   ]
  },
  {
   "cell_type": "markdown",
   "metadata": {},
   "source": [
    "### Recurrent Neural Networks (RNN) ###"
   ]
  },
  {
   "cell_type": "code",
   "execution_count": 6,
   "metadata": {},
   "outputs": [],
   "source": [
    "class RNNTagger(nn.Module):\n",
    "\n",
    "    def __init__(self, embedding_dim, hidden_dim, vocab_size, tagset_size):\n",
    "        super(RNNTagger, self).__init__()\n",
    "        self.hidden_dim = hidden_dim\n",
    "\n",
    "        self.word_embeddings = nn.Embedding(vocab_size, embedding_dim)\n",
    "\n",
    "        # The RNN takes word embeddings as inputs, and outputs hidden states and output\n",
    "        self.rnn = nn.RNN(embedding_dim, hidden_dim)\n",
    "\n",
    "        # The linear layer that maps from hidden state space to tag space\n",
    "        self.hidden2tag = nn.Linear(hidden_dim, tagset_size)\n",
    "\n",
    "    def forward(self, sentence):\n",
    "        \n",
    "        embeds = self.word_embeddings(sentence)\n",
    "        rnn_out, _ = self.rnn(embeds.view(len(sentence), 1, -1)) #The module is expecting [sentence_length, batch_size, embedding_dim]\n",
    "        \n",
    "        # in this case, rnn_out.view(len(sentence), -1) is the same as doing what function?\n",
    "        tag_space = self.hidden2tag(rnn_out.view(len(sentence), -1))\n",
    "        \n",
    "        tag_scores = F.log_softmax(tag_space, dim=1)\n",
    "        return tag_scores"
   ]
  },
  {
   "cell_type": "code",
   "execution_count": 7,
   "metadata": {},
   "outputs": [
    {
     "name": "stdout",
     "output_type": "stream",
     "text": [
      "[4.420228958129883, 3.9741021394729614, 3.613983154296875, 3.307847023010254, 3.0388649106025696, 2.795709490776062, 2.5697630047798157, 2.354958236217499, 2.147916257381439, 1.947805255651474, 1.7559613585472107, 1.5751446783542633, 1.408383548259735, 1.2578637897968292, 1.1244221776723862, 1.0076693296432495, 0.9063891917467117, 0.8189383894205093, 0.74354088306427, 0.6784739643335342, 0.6221675202250481, 0.5732462778687477, 0.5305359661579132, 0.4930502697825432, 0.45996976643800735, 0.4306167885661125, 0.404432475566864, 0.3809554651379585, 0.3598044216632843, 0.34066247195005417, 0.3232659250497818, 0.30739350244402885, 0.2928592339158058, 0.27950526773929596, 0.267197385430336, 0.255820918828249, 0.24527711048722267, 0.23548027500510216, 0.22635657712817192, 0.2178407981991768, 0.20987646654248238, 0.2024136297404766, 0.1954079046845436, 0.18882039561867714, 0.18261605501174927, 0.17676374688744545, 0.17123553901910782, 0.166006401181221, 0.161053828895092, 0.15635738894343376, 0.15189844369888306, 0.14766042679548264, 0.14362801797688007, 0.13978743739426136, 0.1361256130039692, 0.1326311882585287, 0.12929349020123482, 0.12610257789492607, 0.12304952926933765, 0.12012580968439579, 0.11732433922588825, 0.11463736183941364, 0.11205866001546383, 0.10958201810717583, 0.10720187239348888, 0.10491281002759933, 0.10271012783050537, 0.10058911889791489, 0.09854568541049957, 0.09657570160925388, 0.09467561729252338, 0.09284172765910625, 0.09107109438627958, 0.089360436424613, 0.0877069290727377, 0.08610802236944437, 0.0845609400421381, 0.08306344412267208, 0.08161343447864056, 0.08020866382867098, 0.07884712144732475, 0.07752688881009817, 0.07624626625329256, 0.07500366121530533, 0.0737974438816309, 0.07262597978115082, 0.07148799020797014, 0.07038212288171053, 0.06930691748857498, 0.06826132349669933, 0.0672442875802517, 0.06625458225607872, 0.0652910964563489, 0.0643528401851654, 0.06343921087682247, 0.06254876684397459, 0.061681137420237064, 0.06083519384264946, 0.06001032795757055, 0.05920586083084345]\n",
      "{'DET': 0, 'NN': 1, 'V': 2, 'ADV': 3}\n",
      "['The', 'dog', 'ate', 'the', 'apple']\n",
      "['DET', 'NN', 'V', 'DET', 'NN']\n",
      "[0, 1, 2, 0, 1]\n",
      "--------------\n",
      "{'DET': 0, 'NN': 1, 'V': 2, 'ADV': 3}\n",
      "['Everybody', 'read', 'that', 'book']\n",
      "['NN', 'V', 'DET', 'NN']\n",
      "[1, 2, 0, 1]\n",
      "--------------\n",
      "{'DET': 0, 'NN': 1, 'V': 2, 'ADV': 3}\n",
      "['Everybody', 'does', 'machine', 'learning', 'nowadays']\n",
      "['NN', 'V', 'NN', 'NN', 'ADV']\n",
      "[1, 2, 1, 1, 3]\n",
      "--------------\n"
     ]
    }
   ],
   "source": [
    "model = RNNTagger(EMBEDDING_DIM, HIDDEN_DIM, len(word_to_ix), len(tag_to_ix))\n",
    "loss_function = nn.NLLLoss()\n",
    "optimizer = optim.SGD(model.parameters(), lr=0.1)\n",
    "losses = train(model, optimizer, loss_function, 100)\n",
    "print(losses)\n",
    "evaluate(model, 0)\n",
    "evaluate(model, 1)\n",
    "evaluate(model, 2)\n",
    "perplexityRNN = perplexity.copy()\n",
    "perplexity = []\n",
    "#print(perplexityRNN)\n",
    "#for loss in losses:\n",
    "#    perplexity.append(torch.exp(loss))\n",
    "#print(perplexity)"
   ]
  },
  {
   "cell_type": "markdown",
   "metadata": {},
   "source": [
    "### Long Short-Term Memory (LSTM) ###"
   ]
  },
  {
   "cell_type": "code",
   "execution_count": 8,
   "metadata": {},
   "outputs": [],
   "source": [
    "class LSTMTagger(nn.Module):\n",
    "\n",
    "    def __init__(self, embedding_dim, hidden_dim, vocab_size, tagset_size):\n",
    "        super(LSTMTagger, self).__init__()\n",
    "        self.hidden_dim = hidden_dim\n",
    "\n",
    "        self.word_embeddings = nn.Embedding(vocab_size, embedding_dim)\n",
    "\n",
    "        # The LSTM takes word embeddings as inputs, and outputs hidden states\n",
    "        # with dimensionality hidden_dim.\n",
    "        self.lstm = nn.LSTM(embedding_dim, hidden_dim)\n",
    "\n",
    "        # The linear layer that maps from hidden state space to tag space\n",
    "        self.hidden2tag = nn.Linear(hidden_dim, tagset_size)\n",
    "\n",
    "    def forward(self, sentence):\n",
    "        embeds = self.word_embeddings(sentence)\n",
    "        lstm_out, _ = self.lstm(embeds.view(len(sentence), 1, -1))\n",
    "        tag_space = self.hidden2tag(lstm_out.view(len(sentence), -1))\n",
    "        tag_scores = F.log_softmax(tag_space, dim=1)\n",
    "        return tag_scores"
   ]
  },
  {
   "cell_type": "code",
   "execution_count": 9,
   "metadata": {},
   "outputs": [
    {
     "name": "stdout",
     "output_type": "stream",
     "text": [
      "[4.439537525177002, 4.276149868965149, 4.139710068702698, 4.02598512172699, 3.9312944412231445, 3.852435350418091, 3.786637306213379, 3.7315282821655273, 3.6850967407226562, 3.64565908908844, 3.6118195056915283, 3.5824321508407593, 3.556565046310425, 3.5334644317626953, 3.512524724006653, 3.4932605028152466, 3.475284695625305, 3.4582873582839966, 3.4420223236083984, 3.426290988922119, 3.410935640335083, 3.3958274126052856, 3.3808623552322388, 3.365954875946045, 3.3510342836380005, 3.336040735244751, 3.3209246397018433, 3.3056424260139465, 3.290156662464142, 3.274434447288513, 3.2584466338157654, 3.2421669960021973, 3.2255718111991882, 3.2086395025253296, 3.1913511753082275, 3.1736884713172913, 3.155635416507721, 3.1371776461601257, 3.1183016300201416, 3.0989962816238403, 3.079251229763031, 3.059057891368866, 3.038409173488617, 3.017300069332123, 2.995726466178894, 2.9736865162849426, 2.9511796832084656, 2.9282071590423584, 2.90477192401886, 2.8808788061141968, 2.856533706188202, 2.8317443132400513, 2.806519329547882, 2.7808690071105957, 2.7548047304153442, 2.728338658809662, 2.7014840841293335, 2.6742550134658813, 2.6466657519340515, 2.618731915950775, 2.5904694199562073, 2.5618945360183716, 2.533023953437805, 2.5038745999336243, 2.474464535713196, 2.4448100924491882, 2.4149303436279297, 2.384842336177826, 2.3545636534690857, 2.3241119384765625, 2.293504774570465, 2.2627589106559753, 2.2318909764289856, 2.2009177207946777, 2.169854164123535, 2.138716220855713, 2.1075184643268585, 2.0762751698493958, 2.0450000762939453, 2.013706713914871, 1.9824081361293793, 1.9511168003082275, 1.919845163822174, 1.8886054158210754, 1.8574100732803345, 1.8262710571289062, 1.7952008247375488, 1.7642120122909546, 1.7333171963691711, 1.7025298774242401, 1.6718634963035583, 1.6413322389125824, 1.6109505593776703, 1.5807337164878845, 1.5506971776485443, 1.5208569467067719, 1.4912296533584595, 1.4618321657180786, 1.4326813220977783, 1.4037944674491882]\n",
      "{'DET': 0, 'NN': 1, 'V': 2, 'ADV': 3}\n",
      "['The', 'dog', 'ate', 'the', 'apple']\n",
      "['DET', 'NN', 'V', 'DET', 'NN']\n",
      "[0, 1, 2, 1, 1]\n",
      "--------------\n",
      "{'DET': 0, 'NN': 1, 'V': 2, 'ADV': 3}\n",
      "['Everybody', 'read', 'that', 'book']\n",
      "['NN', 'V', 'DET', 'NN']\n",
      "[1, 2, 0, 1]\n",
      "--------------\n",
      "{'DET': 0, 'NN': 1, 'V': 2, 'ADV': 3}\n",
      "['Everybody', 'does', 'machine', 'learning', 'nowadays']\n",
      "['NN', 'V', 'NN', 'NN', 'ADV']\n",
      "[1, 2, 1, 1, 2]\n",
      "--------------\n"
     ]
    }
   ],
   "source": [
    "model = LSTMTagger(EMBEDDING_DIM, HIDDEN_DIM, len(word_to_ix), len(tag_to_ix))\n",
    "loss_function = nn.NLLLoss()\n",
    "optimizer = optim.SGD(model.parameters(), lr=0.1)\n",
    "losses = train(model, optimizer, loss_function, 100)\n",
    "print(losses)\n",
    "evaluate(model, 0)\n",
    "evaluate(model, 1)\n",
    "evaluate(model, 2)\n",
    "perplexityLSTM = perplexity.copy()\n",
    "perplexity = []"
   ]
  },
  {
   "cell_type": "markdown",
   "metadata": {},
   "source": [
    "## Replace LSTM and RNN with GRU ##\n",
    "\n",
    "Implement a network with nn.GRU, and compare with the other networks through loss and perplexity (kolla upp). If wanted, you can extend this toy example with more sentences or vary the task for testing the networks and observing the differences."
   ]
  },
  {
   "cell_type": "code",
   "execution_count": 10,
   "metadata": {},
   "outputs": [],
   "source": [
    "class GRUnn(nn.Module):\n",
    "    def __init__(self, embedding_dim, hidden_dim, vocab_size, tagset_size):\n",
    "        super(GRUnn, self).__init__()\n",
    "        self.hidden_dim = hidden_dim\n",
    "        self.word_embeddings = nn.Embedding(vocab_size, embedding_dim)\n",
    "        self.gru = nn.GRU(embedding_dim, hidden_dim)\n",
    "        self.hidden2tag = nn.Linear(hidden_dim, tagset_size)\n",
    "    def forward(self, sentence):\n",
    "        embeds = self.word_embeddings(sentence)\n",
    "        gru_out, _ = self.gru(embeds.view(len(sentence), 1, -1))\n",
    "        tag_space = self.hidden2tag(lstm_out.view(len(sentence), -1))\n",
    "        tag_scores = F.log_softmax(tag_space, dim=1)\n",
    "        return tag_scores"
   ]
  },
  {
   "cell_type": "code",
   "execution_count": 14,
   "metadata": {},
   "outputs": [
    {
     "name": "stdout",
     "output_type": "stream",
     "text": [
      "[4.485517859458923, 4.329835414886475, 4.197854161262512, 4.086757183074951, 3.993839144706726, 3.916537642478943, 3.8524736166000366, 3.7994874715805054, 3.7556638717651367, 3.719337224960327, 3.689089775085449, 3.663731336593628, 3.6422789096832275, 3.623929023742676, 3.6080318689346313, 3.594066023826599, 3.581614136695862, 3.570345163345337, 3.5599963665008545, 3.5503592491149902, 3.541268825531006, 3.532593250274658, 3.5242276191711426, 3.516088843345642, 3.508108615875244, 3.5002318620681763, 3.4924126863479614, 3.484613060951233, 3.4768015146255493, 3.468949317932129, 3.4610321521759033, 3.4530277252197266, 3.4449163675308228, 3.4366791248321533, 3.4282984733581543, 3.4197579622268677, 3.411041259765625, 3.402133345603943, 3.3930190801620483, 3.3836835622787476, 3.3741135597229004, 3.3642945289611816, 3.3542131185531616, 3.3438570499420166, 3.3332128524780273, 3.322268843650818, 3.3110132217407227, 3.299434781074524, 3.287522315979004, 3.275266170501709, 3.2626558542251587, 3.2496827840805054, 3.2363375425338745, 3.2226120233535767, 3.208499014377594, 3.1939902305603027, 3.1790801286697388, 3.1637617349624634, 3.1480290293693542, 3.131877303123474, 3.115301012992859, 3.0982954502105713, 3.0808563232421875, 3.06297904253006, 3.0446598529815674, 3.0258947610855103, 3.006679654121399, 2.9870108366012573, 2.966884672641754, 2.9462971091270447, 2.925244092941284, 2.9037221670150757, 2.881727695465088, 2.8592559099197388, 2.8363038897514343, 2.81286758184433, 2.7889437675476074, 2.7645283937454224, 2.739619255065918, 2.7142130732536316, 2.6883069276809692, 2.6618990898132324, 2.634986937046051, 2.6075685024261475, 2.5796419382095337, 2.551204800605774, 2.522255778312683, 2.492791712284088, 2.462810695171356, 2.4323095083236694, 2.401286244392395, 2.369737923145294, 2.337663233280182, 2.305061459541321, 2.2719337344169617, 2.2382848858833313, 2.2041223645210266, 2.169458746910095, 2.1343138217926025, 2.0987136363983154]\n",
      "{'DET': 0, 'NN': 1, 'V': 2, 'ADV': 3}\n",
      "['The', 'dog', 'ate', 'the', 'apple']\n",
      "['DET', 'NN', 'V', 'DET', 'NN']\n",
      "[0, 1, 2, 1, 1]\n",
      "--------------\n",
      "{'DET': 0, 'NN': 1, 'V': 2, 'ADV': 3}\n",
      "['Everybody', 'read', 'that', 'book']\n",
      "['NN', 'V', 'DET', 'NN']\n",
      "[1, 2, 0, 1]\n",
      "--------------\n",
      "{'DET': 0, 'NN': 1, 'V': 2, 'ADV': 3}\n",
      "['Everybody', 'does', 'machine', 'learning', 'nowadays']\n",
      "['NN', 'V', 'NN', 'NN', 'ADV']\n",
      "[1, 1, 1, 1, 3]\n",
      "--------------\n",
      "300\n"
     ]
    }
   ],
   "source": [
    "model = GRUnn(EMBEDDING_DIM, HIDDEN_DIM, len(word_to_ix), len(tag_to_ix))\n",
    "model = LSTMTagger(EMBEDDING_DIM, HIDDEN_DIM, len(word_to_ix), len(tag_to_ix))\n",
    "loss_function = nn.NLLLoss()\n",
    "optimizer = optim.SGD(model.parameters(), lr=0.1)\n",
    "losses = train(model, optimizer, loss_function, 100)\n",
    "print(losses)\n",
    "evaluate(model, 0)\n",
    "evaluate(model, 1)\n",
    "evaluate(model, 2)\n",
    "perplexityGRU = perplexity.copy()\n",
    "perplexity = []"
   ]
  },
  {
   "cell_type": "code",
   "execution_count": 12,
   "metadata": {},
   "outputs": [
    {
     "data": {
      "text/plain": [
       "[<matplotlib.lines.Line2D at 0x16c16919070>]"
      ]
     },
     "execution_count": 12,
     "metadata": {},
     "output_type": "execute_result"
    },
    {
     "data": {
      "image/png": "[encoded data removed]",
      "text/plain": [
       "<Figure size 432x288 with 1 Axes>"
      ]
     },
     "metadata": {
      "needs_background": "light"
     },
     "output_type": "display_data"
    }
   ],
   "source": [
    "fig, ax = plt.subplots()\n",
    "ax.plot(perplexityGRU,color='tab:blue')\n",
    "ax.plot(perplexityRNN,color='tab:orange')\n",
    "ax.plot(perplexityLSTM,color='tab:red')"
   ]
  },
  {
   "cell_type": "code",
   "execution_count": null,
   "metadata": {},
   "outputs": [],
   "source": []
  }
 ],
 "metadata": {
  "kernelspec": {
   "display_name": "Python [conda env:AMLdl] *",
   "language": "python",
   "name": "conda-env-AMLdl-py"
  },
  "language_info": {
   "codemirror_mode": {
    "name": "ipython",
    "version": 3
   },
   "file_extension": ".py",
   "mimetype": "text/x-python",
   "name": "python",
   "nbconvert_exporter": "python",
   "pygments_lexer": "ipython3",
   "version": "3.8.5"
  }
 },
 "nbformat": 4,
 "nbformat_minor": 4
}
