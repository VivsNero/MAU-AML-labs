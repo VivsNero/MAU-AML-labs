{
 "cells": [
  {
   "cell_type": "markdown",
   "metadata": {},
   "source": [
    "## Word2Vec ## \n",
    "\n",
    "In this notebook we will go through the step by step creation of the Continouous Bag Of Words (CBOW).\n",
    "CBOW is an embedded model that makes use of a \"fake task\" -> [within short window, predict the current word] to extract a vector that shows the relationship between words."
   ]
  },
  {
   "cell_type": "markdown",
   "metadata": {},
   "source": [
    "### Continuous Bag Of Words ###\n",
    "\n",
    "Adapted from Robert Guthrie"
   ]
  },
  {
   "cell_type": "code",
   "execution_count": 1,
   "metadata": {},
   "outputs": [],
   "source": [
    "import math\n",
    "import torch\n",
    "import torch.nn as nn\n",
    "import torch.nn.functional as F\n",
    "import torch.optim as optim\n",
    "import torch.linalg"
   ]
  },
  {
   "cell_type": "code",
   "execution_count": 2,
   "metadata": {},
   "outputs": [],
   "source": [
    "device = torch.device(\"cuda\" if torch.cuda.is_available() else \"cpu\")\n",
    "# device = \"cpu\""
   ]
  },
  {
   "cell_type": "code",
   "execution_count": 3,
   "metadata": {},
   "outputs": [
    {
     "name": "stdout",
     "output_type": "stream",
     "text": [
      "152\n",
      "106\n"
     ]
    }
   ],
   "source": [
    "# CBOW is a window view; we are trying to infer the word in the middle.\n",
    "CONTEXT_SIZE = 2  # 2 words to the left, 2 to the right\n",
    "\n",
    "raw_text= \"\"\"Long Short-Term Memory (LSTM) is a recurrent neural network (RNN) architecture that has been designed\n",
    "to address the vanishing and exploding gradient problems of conventional RNNs. Unlike feedforward neural networks,\n",
    "RNNs have cyclic connections making them powerful for modeling sequences. \n",
    "They have been successfully used for sequence labeling and sequence prediction tasks,\n",
    "such as handwriting recognition, language modeling, phonetic labeling of acoustic frames. However, in contrast to the deep neural\n",
    "networks, the use of RNNs in speech recognition has been limited to phone recognition in small scale tasks. \n",
    "In this paper, we present novel LSTM based RNN architectures which make more effective\n",
    "use of model parameters to train acoustic models for large vocabulary speech recognition. \n",
    "We train and compare LSTM, RNN and DNN models at various numbers of parameters and configurations.\n",
    "We show that LSTM models converge quickly and give state of the art speech recognition performance for relatively small sized models.\"\"\".split()\n",
    "\n",
    "# By deriving a set from \"raw_text\", we deduplicate the array\n",
    "vocab = set(raw_text)\n",
    "vocab_size = len(vocab)\n",
    "\n",
    "# Basic Tokenizer\n",
    "word_to_ix = {word: i for i, word in enumerate(vocab)}\n",
    "\n",
    "print(len(raw_text))\n",
    "print(vocab_size)"
   ]
  },
  {
   "cell_type": "code",
   "execution_count": 4,
   "metadata": {},
   "outputs": [
    {
     "name": "stdout",
     "output_type": "stream",
     "text": [
      "[(['Long', 'Short-Term', '(LSTM)', 'is'], 'Memory'), (['Short-Term', 'Memory', 'is', 'a'], '(LSTM)'), (['Memory', '(LSTM)', 'a', 'recurrent'], 'is'), (['(LSTM)', 'is', 'recurrent', 'neural'], 'a'), (['is', 'a', 'neural', 'network'], 'recurrent')]\n"
     ]
    }
   ],
   "source": [
    "# Now lets create a \"dataset\"\n",
    "data = []\n",
    "for i in range(CONTEXT_SIZE, len(raw_text) - CONTEXT_SIZE):\n",
    "    context = []\n",
    "    for j in range(CONTEXT_SIZE, 0, -1):\n",
    "        context.append(raw_text[i - j])\n",
    "\n",
    "    for j in range(1, CONTEXT_SIZE + 1):\n",
    "        context.append(raw_text[i + j])\n",
    "        \n",
    "    target = raw_text[i]\n",
    "    data.append((context, target))\n",
    "print(data[:5])\n"
   ]
  },
  {
   "cell_type": "markdown",
   "metadata": {},
   "source": [
    "### Create the CBOW Model (as we have seen already other ANN) ###\n",
    "\n",
    "We have to extend from nn.Module as all the other ANN"
   ]
  },
  {
   "cell_type": "code",
   "execution_count": 5,
   "metadata": {},
   "outputs": [],
   "source": [
    "class CBOW(nn.Module):\n",
    "\n",
    "    def __init__(self, vocab_size, embed_dim, context, hidden_size):\n",
    "        super(CBOW, self).__init__()\n",
    "        self.embedding = nn.Embedding(vocab_size, embed_dim)\n",
    "        self.linear = nn.Sequential(\n",
    "            nn.Linear(context*embed_dim, hidden_size),\n",
    "            nn.ReLU(),\n",
    "            nn.Linear(hidden_size, vocab_size),\n",
    "            nn.LogSoftmax(dim = -1)\n",
    "        )\n",
    "        \n",
    "    def forward(self, inputs):\n",
    "#         print(inputs.shape)\n",
    "#         print(inputs)\n",
    "        out = self.embedding(inputs)\n",
    "#         print(out.shape)\n",
    "        out = out.view(1, -1)\n",
    "#         print(out.shape)\n",
    "        out = self.linear(out)\n",
    "#         print(out.shape)\n",
    "        return out\n",
    "    \n",
    "    # This is what we are actually interested on\n",
    "    def get_word_vector(self, word):\n",
    "        out = self.embedding(word)\n",
    "        return out\n"
   ]
  },
  {
   "cell_type": "markdown",
   "metadata": {},
   "source": [
    "#### Lets break it down! ####"
   ]
  },
  {
   "cell_type": "code",
   "execution_count": 6,
   "metadata": {},
   "outputs": [
    {
     "name": "stdout",
     "output_type": "stream",
     "text": [
      "tensor([[ 15,  12,  11,  32],\n",
      "        [ 52,  35,  10,  92],\n",
      "        [ 14,  32,  65,  19],\n",
      "        [ 48,  68,  33,  87],\n",
      "        [ 69, 104,  60, 100],\n",
      "        [ 59,  68,  86,  87]])\n"
     ]
    }
   ],
   "source": [
    "VOCAB_SIZE = len(vocab)\n",
    "EMBEDD_DIM = 10\n",
    "BATCH_SIZE = 6\n",
    "FULL_CONTEXT_SIZE = CONTEXT_SIZE * 2\n",
    "HIDDEN_SIZE = 256\n",
    "\n",
    "example_tensor = torch.randint(0, VOCAB_SIZE, [BATCH_SIZE, FULL_CONTEXT_SIZE])\n",
    "print(example_tensor)"
   ]
  },
  {
   "cell_type": "code",
   "execution_count": 7,
   "metadata": {},
   "outputs": [
    {
     "name": "stdout",
     "output_type": "stream",
     "text": [
      "torch.Size([6, 4, 10])\n",
      "torch.Size([6, 40])\n"
     ]
    }
   ],
   "source": [
    "CBOW_embedding = nn.Embedding(VOCAB_SIZE, EMBEDD_DIM)\n",
    "example_result = CBOW_embedding(example_tensor)\n",
    "# Now we have a representation of the words in a vector of EMBEDD_DIM Dimensions\n",
    "print(example_result.shape)\n",
    "# example_result = torch.flatten(example_result, start_dim=1)\n",
    "example_result = example_result.view(BATCH_SIZE, -1)\n",
    "print(example_result.shape)"
   ]
  },
  {
   "cell_type": "code",
   "execution_count": 8,
   "metadata": {},
   "outputs": [
    {
     "name": "stdout",
     "output_type": "stream",
     "text": [
      "torch.Size([6, 256])\n"
     ]
    }
   ],
   "source": [
    "CBOW_hidden = nn.Linear(EMBEDD_DIM * FULL_CONTEXT_SIZE, HIDDEN_SIZE)\n",
    "CBOW_hidden_relu = nn.ReLU()\n",
    "example_result = CBOW_hidden(example_result)\n",
    "example_result = CBOW_hidden_relu(example_result)\n",
    "print(example_result.shape)"
   ]
  },
  {
   "cell_type": "code",
   "execution_count": 9,
   "metadata": {},
   "outputs": [
    {
     "name": "stdout",
     "output_type": "stream",
     "text": [
      "torch.Size([6, 106])\n"
     ]
    }
   ],
   "source": [
    "CBOW_output = nn.Linear(HIDDEN_SIZE, VOCAB_SIZE)\n",
    "CBOW_output_soft = nn.LogSoftmax(dim = -1)\n",
    "example_result = CBOW_output(example_result)\n",
    "example_result = CBOW_output_soft(example_result)\n",
    "print(example_result.shape)"
   ]
  },
  {
   "cell_type": "code",
   "execution_count": 10,
   "metadata": {},
   "outputs": [
    {
     "name": "stdout",
     "output_type": "stream",
     "text": [
      "tensor(35)\n",
      "tensor([-4.5491, -4.4814, -4.7106, -4.9417, -4.6276, -4.8057, -4.5576, -4.5030,\n",
      "        -4.5510, -4.4183, -4.5823, -4.1000, -4.4622, -4.3611, -4.8388, -4.7348,\n",
      "        -4.4998, -4.9934, -4.7053, -4.7468, -5.1095, -5.1439, -4.5026, -4.6723,\n",
      "        -4.7022, -4.4329, -4.2943, -4.7277, -4.7178, -4.4072, -4.5628, -4.6035,\n",
      "        -4.3589, -5.1638, -4.5705, -3.9938, -5.0362, -4.2808, -4.7545, -4.8238,\n",
      "        -4.7990, -4.5225, -4.6346, -5.2335, -4.7047, -4.5037, -4.9659, -5.3077,\n",
      "        -4.4388, -4.5231, -5.1118, -4.5026, -4.4559, -4.8398, -4.9712, -4.6266,\n",
      "        -5.1883, -5.1041, -4.6661, -4.8765, -4.7365, -4.7943, -4.7292, -4.5441,\n",
      "        -5.0134, -4.2937, -4.6687, -4.9026, -4.6107, -4.6394, -4.9024, -4.8883,\n",
      "        -4.6313, -4.6326, -4.8319, -4.7311, -5.0951, -4.7691, -4.2984, -4.6508,\n",
      "        -4.7083, -4.8886, -5.0517, -4.7958, -4.3001, -4.7462, -4.7414, -4.7212,\n",
      "        -4.8861, -4.9821, -4.8096, -4.7537, -4.3322, -4.2995, -4.7603, -5.0841,\n",
      "        -4.9572, -4.4448, -4.9681, -4.0721, -5.0886, -4.6496, -4.7749, -4.7739,\n",
      "        -4.5085, -4.4614], grad_fn=<SelectBackward>)\n",
      "tensor(104)\n",
      "tensor([-4.5626, -4.6542, -4.6549, -4.7064, -4.7525, -4.6866, -4.5339, -4.5795,\n",
      "        -4.6628, -4.8741, -4.5745, -4.4524, -4.5831, -4.7802, -4.9643, -4.7043,\n",
      "        -4.6823, -4.6545, -4.6899, -4.5942, -5.0221, -4.8916, -4.4252, -4.6614,\n",
      "        -4.6750, -4.7887, -4.7067, -4.6232, -4.4867, -4.7134, -4.8188, -4.9429,\n",
      "        -4.5474, -4.8244, -4.8764, -4.7119, -4.9532, -4.5192, -4.6115, -4.6234,\n",
      "        -4.8189, -4.6575, -4.6918, -4.7411, -4.6497, -4.6728, -4.7638, -4.5430,\n",
      "        -4.6614, -4.4740, -5.1627, -4.5963, -4.6104, -4.6381, -4.6887, -4.6135,\n",
      "        -4.8611, -4.8409, -4.5564, -4.8919, -4.7739, -4.8568, -4.5302, -4.6133,\n",
      "        -4.7091, -4.5157, -4.6474, -4.6097, -4.5922, -4.5744, -4.8284, -4.8583,\n",
      "        -4.8472, -4.4706, -4.6048, -4.8354, -4.7782, -4.5094, -4.5091, -4.5080,\n",
      "        -4.7954, -4.9648, -4.4950, -4.5083, -4.5043, -4.6258, -4.6088, -4.7807,\n",
      "        -4.6830, -4.6862, -4.4628, -4.7892, -4.7883, -4.4316, -4.5753, -4.7989,\n",
      "        -4.7842, -4.5531, -4.5042, -4.4572, -4.7170, -4.4128, -4.6621, -4.8031,\n",
      "        -4.3483, -4.6442], grad_fn=<SelectBackward>)\n"
     ]
    }
   ],
   "source": [
    "print(example_result[0].argmax(-1))\n",
    "print(example_result[0])\n",
    "print(example_result[1].argmax(-1))\n",
    "print(example_result[1])\n",
    "# print(example_result[2].argmax(-1))\n",
    "# print(example_result[3].argmax(-1))\n",
    "# print(example_result[4].argmax(-1))"
   ]
  },
  {
   "cell_type": "markdown",
   "metadata": {},
   "source": [
    "## Back to the notebook ##"
   ]
  },
  {
   "cell_type": "code",
   "execution_count": 11,
   "metadata": {},
   "outputs": [
    {
     "data": {
      "text/plain": [
       "tensor([ 1, 22,  7, 93])"
      ]
     },
     "execution_count": 11,
     "metadata": {},
     "output_type": "execute_result"
    }
   ],
   "source": [
    "# Simple helper method to transform the context to the expected int vector - tensor\n",
    "\n",
    "def make_context_vector(context, word_to_ix):\n",
    "    idxs = [word_to_ix[w] for w in context]\n",
    "    return torch.tensor(idxs, dtype=torch.long)\n",
    "\n",
    "make_context_vector(data[0][0], word_to_ix)"
   ]
  },
  {
   "cell_type": "code",
   "execution_count": 12,
   "metadata": {},
   "outputs": [],
   "source": [
    "def train(model, epochs, data, optimizer, loss_fn):\n",
    "    model.train()\n",
    "    losses = []\n",
    "    for epoch in range(epochs):\n",
    "        total_loss = 0\n",
    "        for context, target in data:\n",
    "\n",
    "            # Prepare inputs and targets \n",
    "            context_idxs = make_context_vector(context, word_to_ix)\n",
    "            context_idxs = context_idxs.to(device)\n",
    "            target_id = make_context_vector([target], word_to_ix)\n",
    "            target_id = target_id.to(device)\n",
    "\n",
    "            # Do not accumulate \n",
    "            model.zero_grad()\n",
    "\n",
    "            # Step 3. Run the forward pass\n",
    "            log_probs = model(context_idxs)\n",
    "    #         break\n",
    "\n",
    "            # Step 4. Compute your loss function.\n",
    "            loss = loss_fn(log_probs, target_id)\n",
    "\n",
    "    #         loss = loss_function(log_probs, torch.tensor([word_to_ix[target]], dtype=torch.long))\n",
    "\n",
    "            # Step 5. Do the backward pass and update the gradient\n",
    "            loss.backward()\n",
    "            optimizer.step()\n",
    "\n",
    "            # Get the Python number from a 1-element Tensor by calling tensor.item()\n",
    "            total_loss += loss.item()\n",
    "        losses.append(total_loss)\n",
    "    return losses\n",
    "    "
   ]
  },
  {
   "cell_type": "code",
   "execution_count": 13,
   "metadata": {},
   "outputs": [
    {
     "name": "stdout",
     "output_type": "stream",
     "text": [
      "[698.8276858329773, 691.5202617645264, 684.3134832382202, 677.2004256248474, 670.1764786243439, 663.2351455688477, 656.3711779117584, 649.578705072403, 642.8536560535431, 636.191891670227, 629.5857443809509, 623.0297882556915, 616.5213692188263, 610.0574922561646, 603.6324412822723, 597.2438929080963, 590.8856863975525, 584.5560214519501, 578.2520091533661, 571.96653175354, 565.6991097927094, 559.4459638595581, 553.2070643901825, 546.9738887548447, 540.7462080717087, 534.5192048549652, 528.2936021089554, 522.0670284032822, 515.8377195596695, 509.60809099674225, 503.374799489975, 497.1363010406494, 490.8889070749283, 484.63085770606995, 478.3647960424423, 472.09297573566437, 465.8115938901901, 459.52144277095795, 453.2244362831116, 446.9176627397537, 440.60235273838043, 434.28279560804367, 427.9590892791748, 421.6355796456337, 415.3114558458328, 408.9858821630478, 402.66197884082794, 396.33923691511154, 390.01971477270126, 383.7030522823334, 377.39566272497177, 371.09751230478287, 364.8096445798874, 358.53764325380325, 352.2829649448395, 346.04829090833664, 339.8299494981766, 333.63632023334503, 327.466573536396, 321.3234555721283, 315.21181231737137, 309.1315312087536, 303.0874520242214, 297.08059498667717, 291.1141085922718, 285.19616436958313, 279.31792110204697, 273.48965725302696, 267.7098560333252, 261.98374485969543, 256.3125154674053, 250.6986002624035, 245.14513832330704, 239.6560131907463, 234.23051172494888, 228.87055709958076, 223.57931506633759, 218.36037656664848, 213.21367447078228, 208.14458094537258, 203.15128161013126, 198.23788088560104, 193.40519715845585, 188.65438264608383, 183.98375770449638, 179.39866030216217, 174.89722530543804, 170.4820824712515, 166.1517013311386, 161.90900959074497, 157.753358066082, 153.68522161245346, 149.7046840339899, 145.80976642668247, 142.00817815959454, 138.29030026495457, 134.66164852678776, 131.12221477925777, 127.66927602887154, 124.30311234295368]\n"
     ]
    }
   ],
   "source": [
    "VOCAB_SIZE = len(vocab)\n",
    "EMBEDD_DIM = 10\n",
    "BATCH_SIZE = 6\n",
    "FULL_CONTEXT_SIZE = CONTEXT_SIZE * 2\n",
    "HIDDEN_SIZE = 256\n",
    "\n",
    "loss_function = nn.NLLLoss() # Because we are using Log_softmax\n",
    "model = CBOW(vocab_size, EMBEDD_DIM, FULL_CONTEXT_SIZE, HIDDEN_SIZE)\n",
    "model = model.to(device)\n",
    "optimizer = optim.SGD(model.parameters(), lr=0.001)\n",
    "\n",
    "lossesCBOW = train(model, 100, data, optimizer, loss_function)\n",
    "model.eval()\n",
    "\n",
    "print(lossesCBOW)  # The loss decreased every iteration over the training data!"
   ]
  },
  {
   "cell_type": "code",
   "execution_count": 14,
   "metadata": {},
   "outputs": [],
   "source": [
    "# list out keys and values separately\n",
    "key_list = list(word_to_ix.keys())\n",
    "val_list = list(word_to_ix.values())"
   ]
  },
  {
   "cell_type": "code",
   "execution_count": 15,
   "metadata": {},
   "outputs": [],
   "source": [
    "def similarity_cbow(word_1, word_2):\n",
    "    \n",
    "    # test word similarity\n",
    "    print(word_1)\n",
    "    print(word_2)\n",
    "    w1_id = torch.tensor(word_to_ix[word_1], dtype=torch.long)\n",
    "    w2_id = torch.tensor(word_to_ix[word_2], dtype=torch.long)\n",
    "    w1_id = w1_id.to(device)\n",
    "    w2_id = w2_id.to(device)\n",
    "    \n",
    "    word_1_vec = model.get_word_vector(w1_id)\n",
    "    word_2_vec = model.get_word_vector(w2_id)\n",
    "    \n",
    "    # The norm of a vector (1D-matrix) is the square root of the sum of all the squared values within the vector.\n",
    "    print(math.sqrt(torch.square(word_1_vec).sum()))    \n",
    "    print(torch.linalg.norm(word_1_vec))\n",
    "    print(torch.linalg.norm(word_2_vec))\n",
    "    print(word_1_vec.dot(word_2_vec))\n",
    "    \n",
    "    word_distance = torch.linalg.norm(word_1_vec - word_2_vec)\n",
    "    print(\"Distance between '{}' & '{}' : {:0.4f}\".format(word_1, word_2, word_distance))\n",
    "    word_similarity = (word_1_vec.dot(word_2_vec) / (torch.linalg.norm(word_1_vec) * torch.linalg.norm(word_2_vec)))\n",
    "    print(\"Similarity between '{}' & '{}' : {:0.4f}\".format(word_1, word_2, word_similarity))\n"
   ]
  },
  {
   "cell_type": "code",
   "execution_count": 16,
   "metadata": {},
   "outputs": [
    {
     "name": "stdout",
     "output_type": "stream",
     "text": [
      "neural\n",
      "network\n",
      "4.28597472171565\n",
      "tensor(4.2860, grad_fn=<CopyBackwards>)\n",
      "tensor(3.1605, grad_fn=<CopyBackwards>)\n",
      "tensor(2.5190, grad_fn=<DotBackward>)\n",
      "Distance between 'neural' & 'network' : 4.8291\n",
      "Similarity between 'neural' & 'network' : 0.1860\n"
     ]
    }
   ],
   "source": [
    "similarity_cbow(\"neural\", \"network\")"
   ]
  },
  {
   "cell_type": "code",
   "execution_count": 17,
   "metadata": {},
   "outputs": [],
   "source": [
    "def predict_middle_word(prev_words, post_words):\n",
    "    prev_words = prev_words.split()\n",
    "    post_words = post_words.split()\n",
    "\n",
    "    input_words= make_context_vector(prev_words + post_words, word_to_ix)\n",
    "    input_words = input_words.to(device)\n",
    "    output = model(input_words)\n",
    "    out_ind = output.argmax(1)\n",
    "#     print(word_to_ix)\n",
    "#     out_word = word_to_ix.itos[out_ind.item()]\n",
    "    out_word = key_list[val_list.index(out_ind.item())]\n",
    "    print(out_word)"
   ]
  },
  {
   "cell_type": "code",
   "execution_count": 18,
   "metadata": {},
   "outputs": [
    {
     "name": "stdout",
     "output_type": "stream",
     "text": [
      "neural\n",
      "a\n"
     ]
    }
   ],
   "source": [
    "predict_middle_word(\"a recurrent\", \"network is\")\n",
    "predict_middle_word(\"LSTM is\", \"recurrent neural\")"
   ]
  },
  {
   "cell_type": "markdown",
   "metadata": {},
   "source": [
    "### Now that you saw how to create the CBOW model (word2vec), you should work on doing the \"opposite\" model, Skip-Gram ###\n",
    "\n",
    "Skip-gram as you saw on the lectures, reverses the problem so you need to predict through the \"fake task\" the context of the input"
   ]
  },
  {
   "cell_type": "code",
   "execution_count": 19,
   "metadata": {},
   "outputs": [],
   "source": [
    "class Skipgram(nn.Module):\n",
    "    def __init__(self, vocab_size, embedding_dim, contextSizeIn):\n",
    "        super(Skipgram, self).__init__()\n",
    "        self.embedding = nn.Embedding(vocab_size, embedding_dim)\n",
    "        self.linearFirst = nn.Linear(contextSizeIn*embedding_dim, 256)\n",
    "        self.linearSecond = nn.Linear(256, vocab_size)\n",
    "        self.contextSize = contextSizeIn\n",
    "        #self.Vembeddings = nn.Embedding(vocab_sze, embedding_dim)\n",
    "        #self.embedding_dim = embedding_dim\n",
    "    def forward(self, inputs):\n",
    "        embeddings = self.embedding(inputs).view((1,-1))\n",
    "        linFirstOut = F.relu(self.linearFirst(embeddings))\n",
    "        linSecondOut = self.linearSecond(linFirstOut)\n",
    "        logProbabilities = F.log_softmax(linSecondOut, dim=1)#.view(contextSize, -1)\n",
    "        return logProbabilities\n",
    "    def get_word_vector(self, word):\n",
    "        out = self.embedding(word)\n",
    "        return out \n",
    "        "
   ]
  },
  {
   "cell_type": "code",
   "execution_count": 21,
   "metadata": {},
   "outputs": [
    {
     "name": "stdout",
     "output_type": "stream",
     "text": [
      "[692.9156131744385, 686.4356069564819, 680.0392751693726, 673.7217481136322, 667.4763762950897, 661.301860332489, 655.1917119026184, 649.1386651992798, 643.1430008411407, 637.2004883289337, 631.30819272995, 625.4612672328949, 619.6552436351776, 613.8838677406311, 608.1488621234894, 602.4456775188446, 596.7697310447693, 591.1195185184479, 585.4914247989655, 579.8859539031982, 574.2986445426941, 568.7252094745636, 563.1637732982635, 557.6133276224136, 552.0697591304779, 546.5307179689407, 540.9942991733551, 535.4590595960617, 529.9211361408234, 524.380549788475, 518.8389794826508, 513.2940987348557, 507.74621045589447, 502.1934052705765, 496.6314307451248, 491.06397891044617, 485.4892771244049, 479.909029006958, 474.3190590143204, 468.71907168626785, 463.1129954457283, 457.4966977238655, 451.8700039386749, 446.2346438765526, 440.5888594985008, 434.93502074480057, 429.2773043513298, 423.610612988472, 417.94024670124054, 412.259856402874, 406.57705944776535, 400.89077639579773, 395.20409065485, 389.5164132118225, 383.8329248428345, 378.1479007601738, 372.46710020303726, 366.7892014980316, 361.1160268187523, 355.4498840868473, 349.78970006108284, 344.1424012184143, 338.5021129846573, 332.8749085366726, 327.2624810934067, 321.6631671190262, 316.08596697449684, 310.526561409235, 304.9903658628464, 299.4781046807766, 293.9956023693085, 288.5416442453861, 283.1175871193409, 277.7246198952198, 272.36893102526665, 267.05106097459793, 261.7732597887516, 256.53331884741783, 251.3389445245266, 246.18575698137283, 241.07956847548485, 236.02262490987778, 231.01756885647774, 226.06649228930473, 221.17070791125298, 216.33207321166992, 211.55370151996613, 206.83657902479172, 202.18249033391476, 197.59246809780598, 193.06946589052677, 188.61276853084564, 184.22743217647076, 179.91249580681324, 175.66782779991627, 171.49712333083153, 167.39913487434387, 163.3754402399063, 159.42848399281502, 155.55521626770496]\n"
     ]
    }
   ],
   "source": [
    "losses = []\n",
    "lossFunction = nn.NLLLoss()\n",
    "modelSKIPGRAM = Skipgram(vocab_size, EMBEDD_DIM, FULL_CONTEXT_SIZE)\n",
    "optimizer = optim.SGD(modelSKIPGRAM.parameters(), lr=0.001)\n",
    "\n",
    "lossesSKIPGRAM = train(modelSKIPGRAM, 100, data, optimizer, lossFunction)\n",
    "\n",
    "modelSKIPGRAM.eval()\n",
    "print(lossesSKIPGRAM)\n",
    "#def train(model, epochs, data, optimizer, loss_fn):\n",
    "#VOCAB_SIZE = len(vocab)\n",
    "#EMBEDD_DIM = 10\n",
    "#BATCH_SIZE = 6\n",
    "#FULL_CONTEXT_SIZE = CONTEXT_SIZE * 2\n",
    "#HIDDEN_SIZE = 256\n"
   ]
  },
  {
   "cell_type": "code",
   "execution_count": 23,
   "metadata": {},
   "outputs": [],
   "source": [
    "def predict_middle_word_SKIPGRAM(prev_words, post_words):\n",
    "    prev_words = prev_words.split()\n",
    "    post_words = post_words.split()\n",
    "\n",
    "    input_words= make_context_vector(prev_words + post_words, word_to_ix)\n",
    "    input_words = input_words.to(device)\n",
    "    output = modelSKIPGRAM(input_words)\n",
    "    out_ind = output.argmax(1)\n",
    "#     print(word_to_ix)\n",
    "#     out_word = word_to_ix.itos[out_ind.item()]\n",
    "    out_word = key_list[val_list.index(out_ind.item())]\n",
    "    print(out_word)"
   ]
  },
  {
   "cell_type": "code",
   "execution_count": 24,
   "metadata": {},
   "outputs": [
    {
     "name": "stdout",
     "output_type": "stream",
     "text": [
      "neural\n",
      "a\n"
     ]
    }
   ],
   "source": [
    "predict_middle_word_SKIPGRAM(\"a recurrent\", \"network is\")\n",
    "predict_middle_word_SKIPGRAM(\"LSTM is\", \"recurrent neural\")"
   ]
  },
  {
   "cell_type": "code",
   "execution_count": 25,
   "metadata": {},
   "outputs": [],
   "source": [
    "def similarity_SKIPGRAM(word_1, word_2):\n",
    "    \n",
    "    # test word similarity\n",
    "    print(word_1)\n",
    "    print(word_2)\n",
    "    w1_id = torch.tensor(word_to_ix[word_1], dtype=torch.long)\n",
    "    w2_id = torch.tensor(word_to_ix[word_2], dtype=torch.long)\n",
    "    w1_id = w1_id.to(device)\n",
    "    w2_id = w2_id.to(device)\n",
    "    \n",
    "    word_1_vec = modelSKIPGRAM.get_word_vector(w1_id)\n",
    "    word_2_vec = modelSKIPGRAM.get_word_vector(w2_id)\n",
    "    \n",
    "    # The norm of a vector (1D-matrix) is the square root of the sum of all the squared values within the vector.\n",
    "    print(math.sqrt(torch.square(word_1_vec).sum()))    \n",
    "    print(torch.linalg.norm(word_1_vec))\n",
    "    print(torch.linalg.norm(word_2_vec))\n",
    "    print(word_1_vec.dot(word_2_vec))\n",
    "    \n",
    "    word_distance = torch.linalg.norm(word_1_vec - word_2_vec)\n",
    "    print(\"Distance between '{}' & '{}' : {:0.4f}\".format(word_1, word_2, word_distance))\n",
    "    word_similarity = (word_1_vec.dot(word_2_vec) / (torch.linalg.norm(word_1_vec) * torch.linalg.norm(word_2_vec)))\n",
    "    print(\"Similarity between '{}' & '{}' : {:0.4f}\".format(word_1, word_2, word_similarity))\n"
   ]
  },
  {
   "cell_type": "code",
   "execution_count": 26,
   "metadata": {},
   "outputs": [
    {
     "name": "stdout",
     "output_type": "stream",
     "text": [
      "neural\n",
      "network\n",
      "2.878335427742001\n",
      "tensor(2.8783, grad_fn=<CopyBackwards>)\n",
      "tensor(3.1281, grad_fn=<CopyBackwards>)\n",
      "tensor(2.6805, grad_fn=<DotBackward>)\n",
      "Distance between 'neural' & 'network' : 3.5649\n",
      "Similarity between 'neural' & 'network' : 0.2977\n"
     ]
    }
   ],
   "source": [
    "similarity_SKIPGRAM(\"neural\", \"network\")"
   ]
  },
  {
   "cell_type": "code",
   "execution_count": null,
   "metadata": {},
   "outputs": [],
   "source": []
  }
 ],
 "metadata": {
  "kernelspec": {
   "display_name": "Python [conda env:AMLdl] *",
   "language": "python",
   "name": "conda-env-AMLdl-py"
  },
  "language_info": {
   "codemirror_mode": {
    "name": "ipython",
    "version": 3
   },
   "file_extension": ".py",
   "mimetype": "text/x-python",
   "name": "python",
   "nbconvert_exporter": "python",
   "pygments_lexer": "ipython3",
   "version": "3.8.5"
  }
 },
 "nbformat": 4,
 "nbformat_minor": 4
}
